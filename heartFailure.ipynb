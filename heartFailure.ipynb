{
 "cells": [
  {
   "cell_type": "markdown",
   "id": "da0972b7-a27a-47f4-a04f-39cb13586c00",
   "metadata": {},
   "source": [
    "#### 1. Read the \"heartFailureDataset.txt\" dataset into a Numpy array. You can use the appropriate Numpy function for reading tabular data"
   ]
  },
  {
   "cell_type": "code",
   "execution_count": 1,
   "id": "2a9df9e5-b037-42ef-98f4-b7a039455a0e",
   "metadata": {
    "tags": []
   },
   "outputs": [
    {
     "data": {
      "text/plain": [
       "50"
      ]
     },
     "execution_count": 1,
     "metadata": {},
     "output_type": "execute_result"
    }
   ],
   "source": [
    "import numpy as np\n",
    "import pandas as pd\n",
    "import csv\n",
    "# 1\n",
    "data_fr = pd.read_csv(r\"C:\\Users\\Dell\\Downloads\\HeartFailureDataset 1.csv\")\n",
    "data=data_fr.values\n",
    "with open(r\"C:\\Users\\Dell\\Downloads\\HeartFailureDataset 1.csv\", 'r') as file:\n",
    "    file_read=csv.reader(file)\n",
    "    column_names =next(file_read)\n",
    "len(column_names)"
   ]
  },
  {
   "cell_type": "code",
   "execution_count": 3,
   "id": "f538bc38-4a6f-4747-a5cb-563deca9bf3f",
   "metadata": {
    "tags": []
   },
   "outputs": [
    {
     "name": "stdout",
     "output_type": "stream",
     "text": [
      "<class 'pandas.core.frame.DataFrame'>\n",
      "RangeIndex: 1177 entries, 0 to 1176\n",
      "Data columns (total 50 columns):\n",
      " #   Column                    Non-Null Count  Dtype  \n",
      "---  ------                    --------------  -----  \n",
      " 0   ID                        1177 non-null   int64  \n",
      " 1   outcome                   1176 non-null   float64\n",
      " 2   age                       1177 non-null   int64  \n",
      " 3   gendera                   1177 non-null   int64  \n",
      " 4   BMI                       962 non-null    float64\n",
      " 5   hypertensive              1177 non-null   int64  \n",
      " 6   atrialfibrillation        1177 non-null   int64  \n",
      " 7   CHD with no MI            1177 non-null   int64  \n",
      " 8   diabetes                  1177 non-null   int64  \n",
      " 9   deficiencyanemias         1177 non-null   int64  \n",
      " 10  depression                1177 non-null   int64  \n",
      " 11  Hyperlipemia              1177 non-null   int64  \n",
      " 12  Renal failure             1177 non-null   int64  \n",
      " 13  COPD                      1177 non-null   int64  \n",
      " 14  heart rate                1164 non-null   float64\n",
      " 15  Systolic blood pressure   1161 non-null   float64\n",
      " 16  Diastolic blood pressure  1161 non-null   float64\n",
      " 17  Respiratory rate          1164 non-null   float64\n",
      " 18  temperature               1158 non-null   float64\n",
      " 19  SP O2                     1164 non-null   float64\n",
      " 20  Urine output              1141 non-null   float64\n",
      " 21  hematocrit                1177 non-null   float64\n",
      " 22  RBC                       1177 non-null   float64\n",
      " 23  MCH                       1177 non-null   float64\n",
      " 24  MCHC                      1177 non-null   float64\n",
      " 25  MCV                       1177 non-null   float64\n",
      " 26  RDW                       1177 non-null   float64\n",
      " 27  Leucocyte                 1177 non-null   float64\n",
      " 28  Platelets                 1177 non-null   float64\n",
      " 29  Neutrophils               1033 non-null   float64\n",
      " 30  Basophils                 918 non-null    float64\n",
      " 31  Lymphocyte                1032 non-null   float64\n",
      " 32  PT                        1157 non-null   float64\n",
      " 33  INR                       1157 non-null   float64\n",
      " 34  NT-proBNP                 1177 non-null   float64\n",
      " 35  Creatine kinase           1012 non-null   float64\n",
      " 36  Creatinine                1177 non-null   float64\n",
      " 37  Urea nitrogen             1177 non-null   float64\n",
      " 38  glucose                   1159 non-null   float64\n",
      " 39  Blood potassium           1177 non-null   float64\n",
      " 40  Blood sodium              1177 non-null   float64\n",
      " 41  Blood calcium             1176 non-null   float64\n",
      " 42  Chloride                  1177 non-null   float64\n",
      " 43  Anion gap                 1177 non-null   float64\n",
      " 44  Magnesium ion             1177 non-null   float64\n",
      " 45  PH                        885 non-null    float64\n",
      " 46  Bicarbonate               1177 non-null   float64\n",
      " 47  Lactic acid               948 non-null    float64\n",
      " 48  PCO2                      883 non-null    float64\n",
      " 49  EF                        1177 non-null   int64  \n",
      "dtypes: float64(37), int64(13)\n",
      "memory usage: 459.9 KB\n"
     ]
    }
   ],
   "source": [
    "data_fr.info()"
   ]
  },
  {
   "cell_type": "markdown",
   "id": "5afd353c-41b4-4895-a7a2-7aba9f6b5eac",
   "metadata": {
    "tags": []
   },
   "source": [
    "#### 2. Calculate the mean and standard deviation of the “heart rate” values for each “gender”across all patients. Then, identify the “gender: with the lowest mean heart rate"
   ]
  },
  {
   "cell_type": "code",
   "execution_count": 3,
   "id": "0642ae31-3d13-4f1d-a9c4-dbff44885ecf",
   "metadata": {},
   "outputs": [
    {
     "name": "stdout",
     "output_type": "stream",
     "text": [
      "The mean of heart rate female : 84.36778837735726\n",
      "The standard deviation of heart rate female : 15.954616665632308\n",
      "The mean of heart rate male : 84.80731991110707\n",
      "The standard deviation of heart rate male : 16.072054208238853\n",
      "female(2)\n"
     ]
    },
    {
     "data": {
      "text/plain": [
       "1"
      ]
     },
     "execution_count": 3,
     "metadata": {},
     "output_type": "execute_result"
    }
   ],
   "source": [
    "#2\n",
    "#ind_heart=column_names.index('heart rate') #14\n",
    "\n",
    "gender1=data[:,3] # gendera\n",
    "m_male=gender1==1 \n",
    "m_female=gender1==2\n",
    "\n",
    "mean_f=np.nanmean(data[m_female , 14],axis=0)\n",
    "std_f=np.nanstd(data[m_female , 14],axis=0)\n",
    "\n",
    "std_m=np.nanstd(data[m_male , 14],axis=0)\n",
    "mean_m=np.nanmean(data[m_male , 14],axis=0)\n",
    "\n",
    "print(f'The mean of heart rate female : {mean_f}')\n",
    "print(f'The standard deviation of heart rate female : {std_f}')\n",
    "print(f'The mean of heart rate male : {mean_m}')\n",
    "print(f'The standard deviation of heart rate male : {std_m}')\n",
    "l=np.array([ mean_f , mean_m])\n",
    "m=l.min()\n",
    "if(m == mean_f ):\n",
    "    print(\"female(2)\")\n",
    "else:\n",
    "    print(\"male(1)\")\n",
    "gender1.ndim"
   ]
  },
  {
   "cell_type": "code",
   "execution_count": 4,
   "id": "3d25bc9b-7b91-4614-ac3f-a809efb2e056",
   "metadata": {
    "tags": []
   },
   "outputs": [
    {
     "data": {
      "text/plain": [
       "2"
      ]
     },
     "execution_count": 4,
     "metadata": {},
     "output_type": "execute_result"
    }
   ],
   "source": [
    "data7=data[:,1:]\n",
    "data7.ndim"
   ]
  },
  {
   "cell_type": "markdown",
   "id": "44deee89-6bb8-4c7b-b654-a1f5bafc1788",
   "metadata": {},
   "source": [
    "#### 3. Calculate the median and interquartile range of all features. Then, identify the feature with the smallest and largest interquartile range."
   ]
  },
  {
   "cell_type": "code",
   "execution_count": 13,
   "id": "b44ef542-ea9d-487e-8eb1-893fbab08582",
   "metadata": {
    "tags": []
   },
   "outputs": [
    {
     "name": "stdout",
     "output_type": "stream",
     "text": [
      "Median for each variable:\n",
      " [('outcome', 0.0), ('age', 77.0), ('gendera', 2.0), ('BMI', 28.3124741), ('hypertensive', 1.0), ('atrialfibrillation', 0.0), ('CHD with no MI', 0.0), ('diabetes', 0.0), ('deficiencyanemias', 0.0), ('depression', 0.0), ('Hyperlipemia', 0.0), ('Renal failure', 0.0), ('COPD', 0.0), ('heart rate', 83.61079944), ('Systolic blood pressure', 116.1282051), ('Diastolic blood pressure', 58.46153846), ('Respiratory rate', 20.37230769), ('temperature', 36.650794195), ('SP O2', 96.452272725), ('Urine output', 1675.0), ('hematocrit', 30.8), ('RBC', 3.49), ('MCH', 29.75), ('MCHC', 32.98571429), ('MCV', 90.0), ('RDW', 15.50625), ('Leucocyte', 9.68), ('Platelets', 222.6666667), ('Neutrophils', 82.46666667), ('Basophils', 0.3), ('Lymphocyte', 10.475000000000001), ('PT', 14.63333333), ('INR', 1.3), ('NT-proBNP', 5840.0), ('Creatine kinase', 89.25), ('Creatinine', 1.2875), ('Urea nitrogen', 30.66666667), ('glucose', 136.4), ('Blood potassium', 4.115384615), ('Blood sodium', 139.25), ('Blood calcium', 8.5), ('Chloride', 102.5), ('Anion gap', 13.66666667), ('Magnesium ion', 2.092307692), ('PH', 7.38), ('Bicarbonate', 26.5), ('Lactic acid', 1.6), ('PCO2', 43.0), ('EF', 55.0)]\n",
      "Interquartile Range (IQR) for each variable:\n",
      " {'outcome': 0.0, 'age': 20.0, 'gendera': 1.0, 'BMI': 9.307047992500003, 'hypertensive': 1.0, 'atrialfibrillation': 1.0, 'CHD with no MI': 0.0, 'diabetes': 1.0, 'deficiencyanemias': 1.0, 'depression': 0.0, 'Hyperlipemia': 1.0, 'Renal failure': 1.0, 'COPD': 0.0, 'heart rate': 23.535892855, 'Systolic blood pressure': 23.2336957, 'Diastolic blood pressure': 13.290372669999996, 'Respiratory rate': 5.4655053225, 'temperature': 0.7359458050000072, 'SP O2': 2.9175000024999918, 'Urine output': 1520.0, 'hematocrit': 6.852500000000003, 'RBC': 0.7799999999999998, 'MCH': 2.9899999999999984, 'MCHC': 1.8138888900000012, 'MCV': 7.607142859999996, 'RDW': 2.477499999999999, 'Leucocyte': 5.3, 'Platelets': 135.3409091, 'Neutrophils': 12.674999999999997, 'Basophils': 0.3, 'Lymphocyte': 8.812499999749999, 'PT': 5.640000000000001, 'INR': 0.5963636360000002, 'NT-proBNP': 12717.0, 'Creatine kinase': 139.1875, 'Creatinine': 0.96, 'Urea nitrogen': 24.41666667, 'glucose': 55.5625, 'Blood potassium': 0.5000000000000004, 'Blood sodium': 4.933333299999987, 'Blood calcium': 0.7201988637499994, 'Chloride': 6.571428600000004, 'Anion gap': 3.1666666699999997, 'Magnesium ion': 0.2861111110000001, 'PH': 0.0953846149999995, 'Bicarbonate': 6.420454549999999, 'Lactic acid': 1.0000000000000002, 'PCO2': 13.547322770000001, 'EF': 15.0}\n",
      "Variable with largest IQR: NT-proBNP\n",
      "Variable with smallest IQR: outcome\n"
     ]
    },
    {
     "data": {
      "text/plain": [
       "array([724, 836, 334, ..., 739, 731, 737], dtype=int64)"
      ]
     },
     "execution_count": 13,
     "metadata": {},
     "output_type": "execute_result"
    }
   ],
   "source": [
    "#3\n",
    "data2 = data[:,1:] #without ID col\n",
    "median = np.nanmedian(data2, axis=0)\n",
    "q1 = np.nanpercentile(data2, 25, axis=0)\n",
    "q3 = np.nanpercentile(data2, 75, axis=0)\n",
    "iqr = q3 - q1\n",
    "\n",
    "variable_with_maximam_iqr = np.argmax(iqr)\n",
    "max_f=column_names[variable_with_maximam_iqr+1]\n",
    "variable_with_minimam_iqr = np.argmin(iqr)\n",
    "min_f=column_names[variable_with_minimam_iqr+1]\n",
    "\n",
    "result_meadian =list(zip(column_names[1:],median))\n",
    "result_iqr = dict(list(zip(column_names[1:],iqr)))\n",
    "\n",
    "print(\"Median for each variable:\\n\",result_meadian)\n",
    "print(\"Interquartile Range (IQR) for each variable:\\n\", result_iqr)\n",
    "print(\"Variable with largest IQR:\", max_f)\n",
    "print(\"Variable with smallest IQR:\", min_f)\n",
    "#print(len(median))\n",
    "t"
   ]
  },
  {
   "cell_type": "markdown",
   "id": "40f21057-2c6f-4986-ab25-4ef19d3ed822",
   "metadata": {},
   "source": [
    "#### 4. Using the np.sum function, calculate the total “blood pressure” (“Systolic blood pressure” and “Diastolic blood pressure”) value for each patient. Then, print the top 10 “patient IDs” with the highest blood pressure values.\n"
   ]
  },
  {
   "cell_type": "code",
   "execution_count": 4,
   "id": "7ac2c230-6c05-4b71-8361-885b7348f52a",
   "metadata": {},
   "outputs": [
    {
     "name": "stdout",
     "output_type": "stream",
     "text": [
      "Top 10 patients IDs with the highest blood pressure values.:\n",
      "[178001. 163199. 190823. 196856. 118932. 169263. 189112. 196981. 184453.\n",
      " 114085.]\n"
     ]
    }
   ],
   "source": [
    "#4\n",
    "#column_names.index('Systolic blood pressure')#15\n",
    "#column_names.index('Diastolic blood pressure')#16\n",
    "blood_pressure=np.nansum([data[:,15] , data[:,16]],axis=0)\n",
    "\n",
    "t=np.argsort(blood_pressure)[::-1]\n",
    "print(\"Top 10 patients IDs with the highest blood pressure values.:\")\n",
    "print(data[:,0][t])"
   ]
  },
  {
   "cell_type": "markdown",
   "id": "58b1c19b-f8fa-4e6f-bc9e-135537dd7f80",
   "metadata": {},
   "source": [
    "#### 5. Sort the patients in descending order based on their “glucose” values. Print the patients IDs the patient IDs of the top 10 patients based on their \"glucose\" values.\n"
   ]
  },
  {
   "cell_type": "code",
   "execution_count": 5,
   "id": "16436e2d-9b68-4135-9d58-f4ba4fb1744f",
   "metadata": {
    "tags": []
   },
   "outputs": [
    {
     "name": "stdout",
     "output_type": "stream",
     "text": [
      "Top 10 patients IDs based on their glucose values:\n",
      "[126474. 168835. 109401. 143304. 138444. 149947. 190669. 145935. 165271.\n",
      " 192823.]\n"
     ]
    }
   ],
   "source": [
    "#5\n",
    "#column_names.index('glucose')#38\n",
    "arr=np.array(data[:,38])\n",
    "nan_indices = np.argwhere(np.isnan(arr))\n",
    "arr_without_nan = np.delete(arr, nan_indices)\n",
    "\n",
    "sorted_indices = np.argsort(arr_without_nan)[::-1]\n",
    "print(\"Top 10 patients IDs based on their glucose values:\")\n",
    "print(data[sorted_indices][:10, 0])"
   ]
  },
  {
   "cell_type": "markdown",
   "id": "f9194e74-cd4a-47fc-b1ce-bbc4fe5840d7",
   "metadata": {},
   "source": [
    "#### 6. Using fancy indexing, substitute the \"Creatinine\" values of the top 5 patients, with the corresponding median value of that feature.\n"
   ]
  },
  {
   "cell_type": "code",
   "execution_count": 8,
   "id": "21063f70-abb2-40a7-8d08-5e99704ac12a",
   "metadata": {
    "tags": []
   },
   "outputs": [
    {
     "data": {
      "text/plain": [
       "array([1.2875, 1.2875, 1.2875, 1.2875, 1.2875])"
      ]
     },
     "execution_count": 8,
     "metadata": {},
     "output_type": "execute_result"
    }
   ],
   "source": [
    "#6\n",
    "#column_names.index('Creatinine') #36\n",
    "Creatinine_median=np.nanmedian(data[:,36] , axis=0)\n",
    "top_5=np.argsort(data[:,36])[-5:]\n",
    "data[:,36][top_5]=Creatinine_median\n",
    "f=data[:,36][-5:]\n",
    "data[:,36][top_5]\n"
   ]
  },
  {
   "cell_type": "markdown",
   "id": "19a8253e-d0da-440d-b84d-764188a770f6",
   "metadata": {},
   "source": [
    "#### 7. Using np.argpartition, identify the top 100 values of each feature. Subsequently, compute the mean of each feature, considering only the 100 highest values.\n"
   ]
  },
  {
   "cell_type": "code",
   "execution_count": 10,
   "id": "2b431fb5-5817-4b3c-ae8a-c7ab7e0eee87",
   "metadata": {
    "tags": []
   },
   "outputs": [
    {
     "name": "stdout",
     "output_type": "stream",
     "text": [
      "Mean of the top 100 non-NaN values for each feature:\n",
      " {'outcome': 1.0, 'age': 90.37, 'gendera': 2.0, 'BMI': 50.371414275999996, 'hypertensive': 1.0, 'atrialfibrillation': 1.0, 'CHD with no MI': 1.0, 'diabetes': 1.0, 'deficiencyanemias': 1.0, 'depression': 1.0, 'Hyperlipemia': 1.0, 'Renal failure': 1.0, 'COPD': 0.89, 'heart rate': 115.35980485099998, 'Systolic blood pressure': 154.17329478899998, 'Diastolic blood pressure': 82.07200724559999, 'Respiratory rate': 28.859492472900005, 'temperature': 37.877628023199996, 'SP O2': 99.55130279590001, 'Urine output': 4791.88, 'hematocrit': 43.435387698299984, 'RBC': 4.955795674610001, 'MCH': 33.80988716419999, 'MCHC': 35.1965372012, 'MCV': 101.68911754909998, 'RDW': 20.8041345916, 'Leucocyte': 22.527923751099994, 'Platelets': 490.8417961759999, 'Neutrophils': 93.65614166669998, 'Basophils': 1.2101000000000004, 'Lymphocyte': 31.441915079500014, 'PT': 36.3882841293, 'INR': 3.777445895759999, 'NT-proBNP': 44198.365, 'Creatine kinase': 1517.6239116210002, 'Creatinine': 3.94247859085, 'Urea nitrogen': 89.5400691061, 'glucose': 272.68791628900004, 'Blood potassium': 5.079626953870001, 'Blood sodium': 145.58847803900002, 'Blood calcium': 9.562859784950001, 'Chloride': 112.01233772599998, 'Anion gap': 19.631469172200003, 'Magnesium ion': 2.66757224216, 'PH': 7.48530197635001, 'Bicarbonate': 37.69473588240001, 'Lactic acid': 4.0498286619099995, 'PCO2': 72.82452080600002, 'EF': 70.12}\n"
     ]
    }
   ],
   "source": [
    "data3=data[:, 1:] # with out the ID col\n",
    "top_indices = np.argpartition(-data3, 100, axis=0)[:100, :]\n",
    "# Extract top 100 values for each feature\n",
    "top_values = np.take_along_axis(data3, top_indices, axis=0)\n",
    "\n",
    "# Remove NaN values from the top values\n",
    "top_values_no_nan = top_values[~np.isnan(top_values)]\n",
    "\n",
    "# Reshape \n",
    "num_features = data3.shape[1]\n",
    "mean_top_values = np.nanmean(top_values_no_nan.reshape(-1, num_features), axis=0)\n",
    "\n",
    "result = dict(list(zip(column_names[1:],mean_top_values)))\n",
    "print(\"Mean of the top 100 non-NaN values for each feature:\\n\" , result )\n"
   ]
  },
  {
   "cell_type": "markdown",
   "id": "e402bf0e-1875-413e-b157-6fd147ea1df6",
   "metadata": {},
   "source": [
    "#### 8. Calculate the mean and standard deviation of “Respiratory rate” values. Then, identify the patient IDs with 2 standard deviation away from the mean of “Respiratory rate”feature."
   ]
  },
  {
   "cell_type": "code",
   "execution_count": null,
   "id": "e976b988-5800-418c-a04c-336f3e77d029",
   "metadata": {
    "tags": []
   },
   "outputs": [],
   "source": [
    "#8\n",
    "#ind=column_names.index('Respiratory rate') #17\n",
    "mean1=np.nanmean(data[:,17] , axis=0)\n",
    "std1=np.nanstd(data[:,17]  , axis=0)\n",
    "l=mean1 - 2*std1\n",
    "u=mean1 + 2*std1\n",
    "out_lo=(data[:,17]< l)\n",
    "out_up=(data[:,17] > u)\n",
    "outliers = out_lo | out_up \n",
    "data[:,0][outliers]\n"
   ]
  },
  {
   "cell_type": "markdown",
   "id": "3d5d9d64-168a-4d1c-b3c0-09fb3c59e4ee",
   "metadata": {},
   "source": [
    "#### 9. Compute the distance matrix among patients and determine the k-NN (k-nearest neighbors), where k = 3, for each patient using the np.argpartition function."
   ]
  },
  {
   "cell_type": "code",
   "execution_count": 8,
   "id": "308a1737-ae0a-4a60-93b3-54ed6659eb7f",
   "metadata": {
    "tags": []
   },
   "outputs": [
    {
     "data": {
      "text/plain": [
       "2"
      ]
     },
     "execution_count": 8,
     "metadata": {},
     "output_type": "execute_result"
    }
   ],
   "source": [
    "#9\n",
    "da=data[:,1:] # with out ID col\n",
    "dist_sq = np.nansum((da[:, np.newaxis, :] - da[np.newaxis, :, :]) ** 2, axis=-1)\n",
    "differences = da[:, np.newaxis, :] - da[np.newaxis, :, :]\n",
    "sq_differences = differences ** 2\n",
    "dist_sq = sq_differences.sum(2)\n",
    "nearest = np.argsort(dist_sq, axis=1)\n",
    "K = 3\n",
    "nearest_partition = np.argpartition(dist_sq, K , axis=1)\n",
    "np.fill_diagonal(nearest_partition,0) # to fill the diagonal = 0\n",
    "nearest_partition.ndim"
   ]
  },
  {
   "cell_type": "markdown",
   "id": "bcfd47d5-bc92-4181-bd8f-9311e56443c3",
   "metadata": {},
   "source": [
    "#### 10. Compute the Pearson correlation coefficient between each pair of patients. Subsequently,identify the pair of patients with the highest correlation coefficient. Provide the correlation matrix, which should be a square matrix."
   ]
  },
  {
   "cell_type": "code",
   "execution_count": 14,
   "id": "df0ab6d6-a6b0-4c61-bdb2-7a8d713875f8",
   "metadata": {
    "tags": []
   },
   "outputs": [
    {
     "name": "stdout",
     "output_type": "stream",
     "text": [
      "\n",
      "Pair of patients with the highest correlation coefficient: (31, 32)\n",
      "Coefficient: 0.9863794618777212\n"
     ]
    },
    {
     "data": {
      "text/plain": [
       "tuple"
      ]
     },
     "execution_count": 14,
     "metadata": {},
     "output_type": "execute_result"
    }
   ],
   "source": [
    "correlation_matrix = np.corrcoef(np.nan_to_num(data[:,1:]), rowvar=False)\n",
    "\n",
    "\n",
    "#np.fill_diagonal(correlation_matrix,-1)\n",
    "#max_ind = np.unravel_index(np.argmax(correlation_matrix), correlation_matrix.shape)\n",
    "#max_pair=(max_ind[0] , max_ind[1])\n",
    "\n",
    "upper_triangle = np.triu(correlation_matrix, k=1) # for the diagonal = 1 \n",
    "max_ind = np.unravel_index(np.argmax(upper_triangle), correlation_matrix.shape)\n",
    "max_pair=(max_ind[0] , max_ind[1])\n",
    "\n",
    "\n",
    "print(\"\\nPair of patients with the highest correlation coefficient:\",max_pair)\n",
    "print(f\"Coefficient: {correlation_matrix [max_ind]}\")\n",
    "correlation_matrix\n",
    "type(max_pair)"
   ]
  },
  {
   "cell_type": "markdown",
   "id": "14bc4e97-c1d5-4b37-830a-9a1a38ba827a",
   "metadata": {},
   "source": [
    "##### THANK YOU ..."
   ]
  },
  {
   "cell_type": "code",
   "execution_count": null,
   "id": "7ff54021-4fd4-4de6-aae6-48d2914d3ba4",
   "metadata": {},
   "outputs": [],
   "source": []
  }
 ],
 "metadata": {
  "kernelspec": {
   "display_name": "Python 3 (ipykernel)",
   "language": "python",
   "name": "python3"
  },
  "language_info": {
   "codemirror_mode": {
    "name": "ipython",
    "version": 3
   },
   "file_extension": ".py",
   "mimetype": "text/x-python",
   "name": "python",
   "nbconvert_exporter": "python",
   "pygments_lexer": "ipython3",
   "version": "3.11.5"
  }
 },
 "nbformat": 4,
 "nbformat_minor": 5
}
